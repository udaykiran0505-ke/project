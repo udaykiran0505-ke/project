{
 "cells": [
  {
   "cell_type": "code",
   "execution_count": 1,
   "id": "9735a560-e87a-4363-ba7a-f0b87ce72bb6",
   "metadata": {},
   "outputs": [
    {
     "name": "stdout",
     "output_type": "stream",
     "text": [
      "✅ Dataset loaded successfully.\n",
      "       Category                                             Resume\n",
      "0  Data Science  Skills * Programming Languages: Python (pandas...\n",
      "1  Data Science  Education Details \\r\\nMay 2013 to May 2017 B.E...\n",
      "2  Data Science  Areas of Interest Deep Learning, Control Syste...\n",
      "3  Data Science  Skills â¢ R â¢ Python â¢ SAP HANA â¢ Table...\n",
      "4  Data Science  Education Details \\r\\n MCA   YMCAUST,  Faridab...\n",
      "Columns: Index(['Category', 'Resume'], dtype='object')\n",
      "⚙️ Preprocessing resumes...\n",
      "\n",
      "🏆 Top Ranked Resumes:\n",
      "       Score      Category\n",
      "17  0.293837  Data Science\n",
      "37  0.293837  Data Science\n",
      "7   0.293837  Data Science\n",
      "27  0.293837  Data Science\n",
      "38  0.276745  Data Science\n",
      "\n",
      "✅ Ranked results saved to ranked_resumes.csv\n"
     ]
    }
   ],
   "source": [
    "import pandas as pd\n",
    "import spacy\n",
    "from sklearn.feature_extraction.text import TfidfVectorizer\n",
    "from sklearn.metrics.pairwise import cosine_similarity\n",
    "\n",
    "file_path = r'C:/Users/hp5cd/Downloads/UpdatedResumeDataSet.csv'\n",
    "\n",
    "df = pd.read_csv(file_path)\n",
    "\n",
    "print(\"✅ Dataset loaded successfully.\")\n",
    "print(df.head())\n",
    "print(\"Columns:\", df.columns)\n",
    "\n",
    "nlp = spacy.load('en_core_web_sm')\n",
    "\n",
    "def preprocess(text):\n",
    "    if pd.isnull(text):\n",
    "        return \"\"\n",
    "    doc = nlp(text.lower())\n",
    "    tokens = [token.lemma_ for token in doc if not token.is_stop and token.is_alpha]\n",
    "    return \" \".join(tokens)\n",
    "\n",
    "print(\"⚙️ Preprocessing resumes...\")\n",
    "df['Cleaned_Resume'] = df['Resume'].apply(preprocess)\n",
    "\n",
    "job_desc = \"\"\"\n",
    "We are looking for a data scientist with experience in machine learning, Python programming,\n",
    "NLP techniques, data preprocessing, model building, and deployment.\n",
    "\"\"\"\n",
    "\n",
    "job_desc_cleaned = preprocess(job_desc)\n",
    "\n",
    "corpus = df['Cleaned_Resume'].tolist() + [job_desc_cleaned]\n",
    "\n",
    "vectorizer = TfidfVectorizer()\n",
    "X = vectorizer.fit_transform(corpus)\n",
    "\n",
    "resume_vectors = X[:-1]\n",
    "job_vector = X[-1:]\n",
    "\n",
    "similarities = cosine_similarity(resume_vectors, job_vector).flatten()\n",
    "\n",
    "df['Score'] = similarities\n",
    "\n",
    "df_sorted = df.sort_values(by='Score', ascending=False)\n",
    "\n",
    "print(\"\\n🏆 Top Ranked Resumes:\")\n",
    "print(df_sorted[['Score', 'Category']].head())\n",
    "\n",
    "output_file = 'ranked_resumes.csv'\n",
    "df_sorted[['Score', 'Category', 'Resume']].to_csv(output_file, index=False)\n",
    "print(f\"\\n✅ Ranked results saved to {output_file}\")"
   ]
  },
  {
   "cell_type": "code",
   "execution_count": null,
   "id": "71273d8e-0d3a-483e-98fd-d05a31160fa4",
   "metadata": {},
   "outputs": [],
   "source": []
  }
 ],
 "metadata": {
  "kernelspec": {
   "display_name": "Python 3 (ipykernel)",
   "language": "python",
   "name": "python3"
  },
  "language_info": {
   "codemirror_mode": {
    "name": "ipython",
    "version": 3
   },
   "file_extension": ".py",
   "mimetype": "text/x-python",
   "name": "python",
   "nbconvert_exporter": "python",
   "pygments_lexer": "ipython3",
   "version": "3.12.4"
  }
 },
 "nbformat": 4,
 "nbformat_minor": 5
}
